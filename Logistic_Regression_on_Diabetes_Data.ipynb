{
  "cells": [
    {
      "cell_type": "markdown",
      "metadata": {
        "id": "view-in-github",
        "colab_type": "text"
      },
      "source": [
        "<a href=\"https://colab.research.google.com/github/saumyamishra1211/saumyamishra1211/blob/main/Logistic_Regression_on_Diabetes_Data.ipynb\" target=\"_parent\"><img src=\"https://colab.research.google.com/assets/colab-badge.svg\" alt=\"Open In Colab\"/></a>"
      ]
    },
    {
      "cell_type": "code",
      "execution_count": null,
      "id": "6270345d",
      "metadata": {
        "id": "6270345d"
      },
      "outputs": [],
      "source": [
        "#Data handeling and manipulation libraries\n",
        "import pandas as pd\n",
        "import numpy as np\n",
        "\n",
        "import matplotlib.pyplot as plt\n"
      ]
    },
    {
      "cell_type": "code",
      "execution_count": null,
      "id": "8d770700",
      "metadata": {
        "id": "8d770700"
      },
      "outputs": [],
      "source": [
        "#Read the data\n",
        "df = pd.read_csv('pima-indians-diabetes_label (2).csv')"
      ]
    },
    {
      "cell_type": "code",
      "execution_count": null,
      "id": "9a902115",
      "metadata": {
        "id": "9a902115"
      },
      "outputs": [],
      "source": [
        "# Encoded- categorical into numerical\n",
        "# yes/no - yes 1, no 0"
      ]
    },
    {
      "cell_type": "code",
      "execution_count": null,
      "id": "3a52a0b1",
      "metadata": {
        "scrolled": true,
        "id": "3a52a0b1",
        "outputId": "1cd20e95-90f9-480f-d2cb-985b65576077"
      },
      "outputs": [
        {
          "data": {
            "text/html": [
              "<div>\n",
              "<style scoped>\n",
              "    .dataframe tbody tr th:only-of-type {\n",
              "        vertical-align: middle;\n",
              "    }\n",
              "\n",
              "    .dataframe tbody tr th {\n",
              "        vertical-align: top;\n",
              "    }\n",
              "\n",
              "    .dataframe thead th {\n",
              "        text-align: right;\n",
              "    }\n",
              "</style>\n",
              "<table border=\"1\" class=\"dataframe\">\n",
              "  <thead>\n",
              "    <tr style=\"text-align: right;\">\n",
              "      <th></th>\n",
              "      <th>Pregnancies</th>\n",
              "      <th>Glucose</th>\n",
              "      <th>BloodPressure</th>\n",
              "      <th>SkinThickness</th>\n",
              "      <th>Insulin</th>\n",
              "      <th>BMI</th>\n",
              "      <th>DiabetesPedigreeF</th>\n",
              "      <th>Age</th>\n",
              "      <th>Outcome</th>\n",
              "    </tr>\n",
              "  </thead>\n",
              "  <tbody>\n",
              "    <tr>\n",
              "      <th>0</th>\n",
              "      <td>6</td>\n",
              "      <td>148</td>\n",
              "      <td>72</td>\n",
              "      <td>35</td>\n",
              "      <td>0</td>\n",
              "      <td>33.6</td>\n",
              "      <td>0.627</td>\n",
              "      <td>50</td>\n",
              "      <td>1</td>\n",
              "    </tr>\n",
              "    <tr>\n",
              "      <th>1</th>\n",
              "      <td>1</td>\n",
              "      <td>85</td>\n",
              "      <td>66</td>\n",
              "      <td>29</td>\n",
              "      <td>0</td>\n",
              "      <td>26.6</td>\n",
              "      <td>0.351</td>\n",
              "      <td>31</td>\n",
              "      <td>0</td>\n",
              "    </tr>\n",
              "    <tr>\n",
              "      <th>2</th>\n",
              "      <td>8</td>\n",
              "      <td>183</td>\n",
              "      <td>64</td>\n",
              "      <td>0</td>\n",
              "      <td>0</td>\n",
              "      <td>23.3</td>\n",
              "      <td>0.672</td>\n",
              "      <td>32</td>\n",
              "      <td>1</td>\n",
              "    </tr>\n",
              "    <tr>\n",
              "      <th>3</th>\n",
              "      <td>1</td>\n",
              "      <td>89</td>\n",
              "      <td>66</td>\n",
              "      <td>23</td>\n",
              "      <td>94</td>\n",
              "      <td>28.1</td>\n",
              "      <td>0.167</td>\n",
              "      <td>21</td>\n",
              "      <td>0</td>\n",
              "    </tr>\n",
              "    <tr>\n",
              "      <th>4</th>\n",
              "      <td>0</td>\n",
              "      <td>137</td>\n",
              "      <td>40</td>\n",
              "      <td>35</td>\n",
              "      <td>168</td>\n",
              "      <td>43.1</td>\n",
              "      <td>2.288</td>\n",
              "      <td>33</td>\n",
              "      <td>1</td>\n",
              "    </tr>\n",
              "  </tbody>\n",
              "</table>\n",
              "</div>"
            ],
            "text/plain": [
              "   Pregnancies  Glucose  BloodPressure  SkinThickness  Insulin   BMI  \\\n",
              "0            6      148             72             35        0  33.6   \n",
              "1            1       85             66             29        0  26.6   \n",
              "2            8      183             64              0        0  23.3   \n",
              "3            1       89             66             23       94  28.1   \n",
              "4            0      137             40             35      168  43.1   \n",
              "\n",
              "   DiabetesPedigreeF  Age  Outcome  \n",
              "0              0.627   50        1  \n",
              "1              0.351   31        0  \n",
              "2              0.672   32        1  \n",
              "3              0.167   21        0  \n",
              "4              2.288   33        1  "
            ]
          },
          "execution_count": 4,
          "metadata": {},
          "output_type": "execute_result"
        }
      ],
      "source": [
        "df.head()"
      ]
    },
    {
      "cell_type": "markdown",
      "id": "fe3c7767",
      "metadata": {
        "id": "fe3c7767"
      },
      "source": [
        "## Target Variable- Outcome\n",
        "- Problem statement- You have to build the ML model which will predict the outcome of a diabetes.\n",
        "- 1- person has diabetes\n",
        "- 0- person does not has diabetes"
      ]
    },
    {
      "cell_type": "code",
      "execution_count": null,
      "id": "1a7b8b3e",
      "metadata": {
        "id": "1a7b8b3e",
        "outputId": "a982d593-8985-41f7-ab61-ca4c73ac4e0d"
      },
      "outputs": [
        {
          "data": {
            "text/plain": [
              "['Age',\n",
              " 'BMI',\n",
              " 'BloodPressure',\n",
              " 'DiabetesPedigreeF',\n",
              " 'Glucose',\n",
              " 'Insulin',\n",
              " 'Outcome',\n",
              " 'Pregnancies',\n",
              " 'SkinThickness']"
            ]
          },
          "execution_count": 5,
          "metadata": {},
          "output_type": "execute_result"
        }
      ],
      "source": [
        "sorted(df.columns)"
      ]
    },
    {
      "cell_type": "markdown",
      "id": "42c3d88a",
      "metadata": {
        "id": "42c3d88a"
      },
      "source": [
        "## EDA(Exploratory Data Analysis)"
      ]
    },
    {
      "cell_type": "code",
      "execution_count": null,
      "id": "9fa0c62f",
      "metadata": {
        "id": "9fa0c62f",
        "outputId": "fa662bb6-e36b-46fd-baf1-0544d22d7c94"
      },
      "outputs": [
        {
          "name": "stdout",
          "output_type": "stream",
          "text": [
            "<class 'pandas.core.frame.DataFrame'>\n",
            "RangeIndex: 768 entries, 0 to 767\n",
            "Data columns (total 9 columns):\n",
            " #   Column             Non-Null Count  Dtype  \n",
            "---  ------             --------------  -----  \n",
            " 0   Pregnancies        768 non-null    int64  \n",
            " 1   Glucose            768 non-null    int64  \n",
            " 2   BloodPressure      768 non-null    int64  \n",
            " 3   SkinThickness      768 non-null    int64  \n",
            " 4   Insulin            768 non-null    int64  \n",
            " 5   BMI                768 non-null    float64\n",
            " 6   DiabetesPedigreeF  768 non-null    float64\n",
            " 7   Age                768 non-null    int64  \n",
            " 8   Outcome            768 non-null    int64  \n",
            "dtypes: float64(2), int64(7)\n",
            "memory usage: 54.1 KB\n"
          ]
        }
      ],
      "source": [
        "df.info()"
      ]
    },
    {
      "cell_type": "code",
      "execution_count": null,
      "id": "789db9fa",
      "metadata": {
        "id": "789db9fa",
        "outputId": "512273bf-48b7-4248-c950-827b64020f96"
      },
      "outputs": [
        {
          "data": {
            "text/html": [
              "<div>\n",
              "<style scoped>\n",
              "    .dataframe tbody tr th:only-of-type {\n",
              "        vertical-align: middle;\n",
              "    }\n",
              "\n",
              "    .dataframe tbody tr th {\n",
              "        vertical-align: top;\n",
              "    }\n",
              "\n",
              "    .dataframe thead th {\n",
              "        text-align: right;\n",
              "    }\n",
              "</style>\n",
              "<table border=\"1\" class=\"dataframe\">\n",
              "  <thead>\n",
              "    <tr style=\"text-align: right;\">\n",
              "      <th></th>\n",
              "      <th>Pregnancies</th>\n",
              "      <th>Glucose</th>\n",
              "      <th>BloodPressure</th>\n",
              "      <th>SkinThickness</th>\n",
              "      <th>Insulin</th>\n",
              "      <th>BMI</th>\n",
              "      <th>DiabetesPedigreeF</th>\n",
              "      <th>Age</th>\n",
              "      <th>Outcome</th>\n",
              "    </tr>\n",
              "  </thead>\n",
              "  <tbody>\n",
              "    <tr>\n",
              "      <th>count</th>\n",
              "      <td>768.000000</td>\n",
              "      <td>768.000000</td>\n",
              "      <td>768.000000</td>\n",
              "      <td>768.000000</td>\n",
              "      <td>768.000000</td>\n",
              "      <td>768.000000</td>\n",
              "      <td>768.000000</td>\n",
              "      <td>768.000000</td>\n",
              "      <td>768.000000</td>\n",
              "    </tr>\n",
              "    <tr>\n",
              "      <th>mean</th>\n",
              "      <td>3.845052</td>\n",
              "      <td>120.894531</td>\n",
              "      <td>69.105469</td>\n",
              "      <td>20.536458</td>\n",
              "      <td>79.799479</td>\n",
              "      <td>31.992578</td>\n",
              "      <td>0.471876</td>\n",
              "      <td>33.240885</td>\n",
              "      <td>0.348958</td>\n",
              "    </tr>\n",
              "    <tr>\n",
              "      <th>std</th>\n",
              "      <td>3.369578</td>\n",
              "      <td>31.972618</td>\n",
              "      <td>19.355807</td>\n",
              "      <td>15.952218</td>\n",
              "      <td>115.244002</td>\n",
              "      <td>7.884160</td>\n",
              "      <td>0.331329</td>\n",
              "      <td>11.760232</td>\n",
              "      <td>0.476951</td>\n",
              "    </tr>\n",
              "    <tr>\n",
              "      <th>min</th>\n",
              "      <td>0.000000</td>\n",
              "      <td>0.000000</td>\n",
              "      <td>0.000000</td>\n",
              "      <td>0.000000</td>\n",
              "      <td>0.000000</td>\n",
              "      <td>0.000000</td>\n",
              "      <td>0.078000</td>\n",
              "      <td>21.000000</td>\n",
              "      <td>0.000000</td>\n",
              "    </tr>\n",
              "    <tr>\n",
              "      <th>25%</th>\n",
              "      <td>1.000000</td>\n",
              "      <td>99.000000</td>\n",
              "      <td>62.000000</td>\n",
              "      <td>0.000000</td>\n",
              "      <td>0.000000</td>\n",
              "      <td>27.300000</td>\n",
              "      <td>0.243750</td>\n",
              "      <td>24.000000</td>\n",
              "      <td>0.000000</td>\n",
              "    </tr>\n",
              "    <tr>\n",
              "      <th>50%</th>\n",
              "      <td>3.000000</td>\n",
              "      <td>117.000000</td>\n",
              "      <td>72.000000</td>\n",
              "      <td>23.000000</td>\n",
              "      <td>30.500000</td>\n",
              "      <td>32.000000</td>\n",
              "      <td>0.372500</td>\n",
              "      <td>29.000000</td>\n",
              "      <td>0.000000</td>\n",
              "    </tr>\n",
              "    <tr>\n",
              "      <th>75%</th>\n",
              "      <td>6.000000</td>\n",
              "      <td>140.250000</td>\n",
              "      <td>80.000000</td>\n",
              "      <td>32.000000</td>\n",
              "      <td>127.250000</td>\n",
              "      <td>36.600000</td>\n",
              "      <td>0.626250</td>\n",
              "      <td>41.000000</td>\n",
              "      <td>1.000000</td>\n",
              "    </tr>\n",
              "    <tr>\n",
              "      <th>max</th>\n",
              "      <td>17.000000</td>\n",
              "      <td>199.000000</td>\n",
              "      <td>122.000000</td>\n",
              "      <td>99.000000</td>\n",
              "      <td>846.000000</td>\n",
              "      <td>67.100000</td>\n",
              "      <td>2.420000</td>\n",
              "      <td>81.000000</td>\n",
              "      <td>1.000000</td>\n",
              "    </tr>\n",
              "  </tbody>\n",
              "</table>\n",
              "</div>"
            ],
            "text/plain": [
              "       Pregnancies     Glucose  BloodPressure  SkinThickness     Insulin  \\\n",
              "count   768.000000  768.000000     768.000000     768.000000  768.000000   \n",
              "mean      3.845052  120.894531      69.105469      20.536458   79.799479   \n",
              "std       3.369578   31.972618      19.355807      15.952218  115.244002   \n",
              "min       0.000000    0.000000       0.000000       0.000000    0.000000   \n",
              "25%       1.000000   99.000000      62.000000       0.000000    0.000000   \n",
              "50%       3.000000  117.000000      72.000000      23.000000   30.500000   \n",
              "75%       6.000000  140.250000      80.000000      32.000000  127.250000   \n",
              "max      17.000000  199.000000     122.000000      99.000000  846.000000   \n",
              "\n",
              "              BMI  DiabetesPedigreeF         Age     Outcome  \n",
              "count  768.000000         768.000000  768.000000  768.000000  \n",
              "mean    31.992578           0.471876   33.240885    0.348958  \n",
              "std      7.884160           0.331329   11.760232    0.476951  \n",
              "min      0.000000           0.078000   21.000000    0.000000  \n",
              "25%     27.300000           0.243750   24.000000    0.000000  \n",
              "50%     32.000000           0.372500   29.000000    0.000000  \n",
              "75%     36.600000           0.626250   41.000000    1.000000  \n",
              "max     67.100000           2.420000   81.000000    1.000000  "
            ]
          },
          "execution_count": 8,
          "metadata": {},
          "output_type": "execute_result"
        }
      ],
      "source": [
        "df.describe()"
      ]
    },
    {
      "cell_type": "code",
      "execution_count": null,
      "id": "78076b35",
      "metadata": {
        "id": "78076b35",
        "outputId": "6e9c5c71-3f70-444b-c5f3-adde103ef921"
      },
      "outputs": [
        {
          "data": {
            "text/plain": [
              "Pregnancies          0.901674\n",
              "Glucose              0.173754\n",
              "BloodPressure       -1.843608\n",
              "SkinThickness        0.109372\n",
              "Insulin              2.272251\n",
              "BMI                 -0.428982\n",
              "DiabetesPedigreeF    1.919911\n",
              "Age                  1.129597\n",
              "Outcome              0.635017\n",
              "dtype: float64"
            ]
          },
          "execution_count": 9,
          "metadata": {},
          "output_type": "execute_result"
        }
      ],
      "source": [
        "df.skew()"
      ]
    },
    {
      "cell_type": "code",
      "execution_count": null,
      "id": "45e74cfe",
      "metadata": {
        "id": "45e74cfe",
        "outputId": "d79835fd-81bf-4e39-e941-82ebaa21299c"
      },
      "outputs": [
        {
          "data": {
            "text/plain": [
              "Pregnancies          0.159220\n",
              "Glucose              0.640780\n",
              "BloodPressure        5.180157\n",
              "SkinThickness       -0.520072\n",
              "Insulin              7.214260\n",
              "BMI                  3.290443\n",
              "DiabetesPedigreeF    5.594954\n",
              "Age                  0.643159\n",
              "Outcome             -1.600930\n",
              "dtype: float64"
            ]
          },
          "execution_count": 10,
          "metadata": {},
          "output_type": "execute_result"
        }
      ],
      "source": [
        "df.kurt()"
      ]
    },
    {
      "cell_type": "code",
      "execution_count": null,
      "id": "b4390b05",
      "metadata": {
        "id": "b4390b05",
        "outputId": "67e2c428-75d5-467e-83d6-344a11429787"
      },
      "outputs": [
        {
          "data": {
            "text/plain": [
              "<AxesSubplot:>"
            ]
          },
          "execution_count": 15,
          "metadata": {},
          "output_type": "execute_result"
        },
        {
          "data": {
            "image/png": "[encoded data removed]",
            "text/plain": [
              "<Figure size 1440x864 with 1 Axes>"
            ]
          },
          "metadata": {
            "needs_background": "light"
          },
          "output_type": "display_data"
        }
      ],
      "source": [
        "plt.figure(figsize = (20,12))\n",
        "df.boxplot(vert = False)"
      ]
    },
    {
      "cell_type": "code",
      "execution_count": null,
      "id": "e1ad275e",
      "metadata": {
        "id": "e1ad275e"
      },
      "outputs": [],
      "source": [
        "#Remove the outliers\n",
        "def remove_outlier(col):\n",
        "    q1,q3 = np.percentile(col, [25,75])\n",
        "    IQR = q3 - q1\n",
        "    LW = q1 - (1.5*IQR)\n",
        "    UW = q3 + (1.5*IQR)\n",
        "    return LW, UW"
      ]
    },
    {
      "cell_type": "code",
      "execution_count": null,
      "id": "3061800d",
      "metadata": {
        "id": "3061800d",
        "outputId": "05e0d8e6-7d7f-4bb1-e06e-47859698e610"
      },
      "outputs": [
        {
          "data": {
            "text/html": [
              "<div>\n",
              "<style scoped>\n",
              "    .dataframe tbody tr th:only-of-type {\n",
              "        vertical-align: middle;\n",
              "    }\n",
              "\n",
              "    .dataframe tbody tr th {\n",
              "        vertical-align: top;\n",
              "    }\n",
              "\n",
              "    .dataframe thead th {\n",
              "        text-align: right;\n",
              "    }\n",
              "</style>\n",
              "<table border=\"1\" class=\"dataframe\">\n",
              "  <thead>\n",
              "    <tr style=\"text-align: right;\">\n",
              "      <th></th>\n",
              "      <th>Pregnancies</th>\n",
              "      <th>Glucose</th>\n",
              "      <th>BloodPressure</th>\n",
              "      <th>SkinThickness</th>\n",
              "      <th>Insulin</th>\n",
              "      <th>BMI</th>\n",
              "      <th>DiabetesPedigreeF</th>\n",
              "      <th>Age</th>\n",
              "      <th>Outcome</th>\n",
              "    </tr>\n",
              "  </thead>\n",
              "  <tbody>\n",
              "    <tr>\n",
              "      <th>0</th>\n",
              "      <td>6</td>\n",
              "      <td>148</td>\n",
              "      <td>72</td>\n",
              "      <td>35</td>\n",
              "      <td>0</td>\n",
              "      <td>33.6</td>\n",
              "      <td>0.627</td>\n",
              "      <td>50</td>\n",
              "      <td>1</td>\n",
              "    </tr>\n",
              "    <tr>\n",
              "      <th>1</th>\n",
              "      <td>1</td>\n",
              "      <td>85</td>\n",
              "      <td>66</td>\n",
              "      <td>29</td>\n",
              "      <td>0</td>\n",
              "      <td>26.6</td>\n",
              "      <td>0.351</td>\n",
              "      <td>31</td>\n",
              "      <td>0</td>\n",
              "    </tr>\n",
              "    <tr>\n",
              "      <th>2</th>\n",
              "      <td>8</td>\n",
              "      <td>183</td>\n",
              "      <td>64</td>\n",
              "      <td>0</td>\n",
              "      <td>0</td>\n",
              "      <td>23.3</td>\n",
              "      <td>0.672</td>\n",
              "      <td>32</td>\n",
              "      <td>1</td>\n",
              "    </tr>\n",
              "    <tr>\n",
              "      <th>3</th>\n",
              "      <td>1</td>\n",
              "      <td>89</td>\n",
              "      <td>66</td>\n",
              "      <td>23</td>\n",
              "      <td>94</td>\n",
              "      <td>28.1</td>\n",
              "      <td>0.167</td>\n",
              "      <td>21</td>\n",
              "      <td>0</td>\n",
              "    </tr>\n",
              "    <tr>\n",
              "      <th>4</th>\n",
              "      <td>0</td>\n",
              "      <td>137</td>\n",
              "      <td>40</td>\n",
              "      <td>35</td>\n",
              "      <td>168</td>\n",
              "      <td>43.1</td>\n",
              "      <td>2.288</td>\n",
              "      <td>33</td>\n",
              "      <td>1</td>\n",
              "    </tr>\n",
              "  </tbody>\n",
              "</table>\n",
              "</div>"
            ],
            "text/plain": [
              "   Pregnancies  Glucose  BloodPressure  SkinThickness  Insulin   BMI  \\\n",
              "0            6      148             72             35        0  33.6   \n",
              "1            1       85             66             29        0  26.6   \n",
              "2            8      183             64              0        0  23.3   \n",
              "3            1       89             66             23       94  28.1   \n",
              "4            0      137             40             35      168  43.1   \n",
              "\n",
              "   DiabetesPedigreeF  Age  Outcome  \n",
              "0              0.627   50        1  \n",
              "1              0.351   31        0  \n",
              "2              0.672   32        1  \n",
              "3              0.167   21        0  \n",
              "4              2.288   33        1  "
            ]
          },
          "execution_count": 16,
          "metadata": {},
          "output_type": "execute_result"
        }
      ],
      "source": [
        "df.head()"
      ]
    },
    {
      "cell_type": "code",
      "execution_count": null,
      "id": "c899adb5",
      "metadata": {
        "id": "c899adb5"
      },
      "outputs": [],
      "source": [
        "for column in df.drop(['Outcome'], axis = 1).columns:\n",
        "    LW, UW = remove_outlier(df[column])\n",
        "    df[column] = np.where(df[column] > UW, UW, df[column])\n",
        "    df[column] = np.where(df[column] < LW, LW, df[column])"
      ]
    },
    {
      "cell_type": "code",
      "execution_count": null,
      "id": "14722f35",
      "metadata": {
        "id": "14722f35",
        "outputId": "edf32eee-7a65-40bd-e0dd-e9e353a0a8e5"
      },
      "outputs": [
        {
          "data": {
            "text/plain": [
              "<AxesSubplot:>"
            ]
          },
          "execution_count": 19,
          "metadata": {},
          "output_type": "execute_result"
        },
        {
          "data": {
            "image/png": "[encoded data removed]",
            "text/plain": [
              "<Figure size 1440x864 with 1 Axes>"
            ]
          },
          "metadata": {
            "needs_background": "light"
          },
          "output_type": "display_data"
        }
      ],
      "source": [
        "df.boxplot(figsize = (20,12), vert = False)"
      ]
    },
    {
      "cell_type": "markdown",
      "id": "0498719a",
      "metadata": {
        "id": "0498719a"
      },
      "source": [
        "## Train, Test, Split"
      ]
    },
    {
      "cell_type": "code",
      "execution_count": null,
      "id": "f72d6cb7",
      "metadata": {
        "id": "f72d6cb7"
      },
      "outputs": [],
      "source": [
        "X = df.drop(['Outcome'], axis = 1) #Independent variable\n",
        "y = df['Outcome'] #Target Variable"
      ]
    },
    {
      "cell_type": "code",
      "execution_count": null,
      "id": "b1483e21",
      "metadata": {
        "id": "b1483e21"
      },
      "outputs": [],
      "source": [
        "from sklearn.model_selection import train_test_split"
      ]
    },
    {
      "cell_type": "code",
      "execution_count": null,
      "id": "209af39e",
      "metadata": {
        "id": "209af39e"
      },
      "outputs": [],
      "source": [
        "X_train, X_test, y_train, y_test = train_test_split(X,y, test_size=0.3, random_state = 40)"
      ]
    },
    {
      "cell_type": "code",
      "execution_count": null,
      "id": "66824957",
      "metadata": {
        "id": "66824957",
        "outputId": "181b5d40-bb5b-4ab6-ba20-e3c6c6eac6e5"
      },
      "outputs": [
        {
          "data": {
            "text/plain": [
              "(537, 8)"
            ]
          },
          "execution_count": 24,
          "metadata": {},
          "output_type": "execute_result"
        }
      ],
      "source": [
        "X_train.shape"
      ]
    },
    {
      "cell_type": "code",
      "execution_count": null,
      "id": "767ec049",
      "metadata": {
        "id": "767ec049",
        "outputId": "7ceee553-08d1-43cb-fd1a-083cdff0596a"
      },
      "outputs": [
        {
          "data": {
            "text/plain": [
              "(768, 9)"
            ]
          },
          "execution_count": 25,
          "metadata": {},
          "output_type": "execute_result"
        }
      ],
      "source": [
        "df.shape"
      ]
    },
    {
      "cell_type": "code",
      "execution_count": null,
      "id": "441ce546",
      "metadata": {
        "id": "441ce546",
        "outputId": "40b3b153-6c44-4bd6-a608-3fb0783d0853"
      },
      "outputs": [
        {
          "data": {
            "text/plain": [
              "537.5999999999999"
            ]
          },
          "execution_count": 26,
          "metadata": {},
          "output_type": "execute_result"
        }
      ],
      "source": [
        "0.7*768"
      ]
    },
    {
      "cell_type": "code",
      "execution_count": null,
      "id": "a6f11a9e",
      "metadata": {
        "id": "a6f11a9e",
        "outputId": "b15d4ac8-3dd2-4011-809a-a13d4488ebb4"
      },
      "outputs": [
        {
          "data": {
            "text/plain": [
              "(231, 8)"
            ]
          },
          "execution_count": 27,
          "metadata": {},
          "output_type": "execute_result"
        }
      ],
      "source": [
        "X_test.shape"
      ]
    },
    {
      "cell_type": "code",
      "execution_count": null,
      "id": "60a993a6",
      "metadata": {
        "id": "60a993a6",
        "outputId": "a9e94ed5-4cd2-4680-acec-ef311c0c3905"
      },
      "outputs": [
        {
          "data": {
            "text/plain": [
              "230.39999999999998"
            ]
          },
          "execution_count": 28,
          "metadata": {},
          "output_type": "execute_result"
        }
      ],
      "source": [
        "0.3*768"
      ]
    },
    {
      "cell_type": "markdown",
      "id": "8b6aea7f",
      "metadata": {
        "id": "8b6aea7f"
      },
      "source": [
        "## Model Building\n",
        "- steps:\n",
        "- 1) Object Creation\n",
        "- 2) Model fitting\n",
        "- 3) Model Prediction\n",
        "- 4) Model Evaluation"
      ]
    },
    {
      "cell_type": "code",
      "execution_count": null,
      "id": "525128af",
      "metadata": {
        "id": "525128af"
      },
      "outputs": [],
      "source": [
        "from sklearn.linear_model import LogisticRegression"
      ]
    },
    {
      "cell_type": "code",
      "execution_count": null,
      "id": "b52a10a9",
      "metadata": {
        "id": "b52a10a9"
      },
      "outputs": [],
      "source": [
        "#step1- object creation\n",
        "model = LogisticRegression()"
      ]
    },
    {
      "cell_type": "code",
      "execution_count": null,
      "id": "51c3262a",
      "metadata": {
        "id": "51c3262a",
        "outputId": "aa9ea77e-e5fa-44b1-a5a4-4b74941ffa80"
      },
      "outputs": [
        {
          "name": "stderr",
          "output_type": "stream",
          "text": [
            "C:\\ProgramData\\Anaconda3\\lib\\site-packages\\sklearn\\linear_model\\_logistic.py:763: ConvergenceWarning: lbfgs failed to converge (status=1):\n",
            "STOP: TOTAL NO. of ITERATIONS REACHED LIMIT.\n",
            "\n",
            "Increase the number of iterations (max_iter) or scale the data as shown in:\n",
            "    https://scikit-learn.org/stable/modules/preprocessing.html\n",
            "Please also refer to the documentation for alternative solver options:\n",
            "    https://scikit-learn.org/stable/modules/linear_model.html#logistic-regression\n",
            "  n_iter_i = _check_optimize_result(\n"
          ]
        },
        {
          "data": {
            "text/plain": [
              "LogisticRegression()"
            ]
          },
          "execution_count": 31,
          "metadata": {},
          "output_type": "execute_result"
        }
      ],
      "source": [
        "#step 2 - model fitting\n",
        "model.fit(X_train, y_train)"
      ]
    },
    {
      "cell_type": "code",
      "execution_count": null,
      "id": "777753ed",
      "metadata": {
        "id": "777753ed"
      },
      "outputs": [],
      "source": [
        "#step 3: model prediction\n",
        "y_pred = model.predict(X_test)"
      ]
    },
    {
      "cell_type": "code",
      "execution_count": null,
      "id": "f57f69c6",
      "metadata": {
        "id": "f57f69c6"
      },
      "outputs": [],
      "source": [
        "#Step4: - Model Evaluation\n",
        "from sklearn.metrics import accuracy_score,r2_score"
      ]
    },
    {
      "cell_type": "code",
      "execution_count": null,
      "id": "8ad32660",
      "metadata": {
        "id": "8ad32660",
        "outputId": "86c3ac12-0f64-4693-cc1b-025875918682"
      },
      "outputs": [
        {
          "data": {
            "text/plain": [
              "0.7359307359307359"
            ]
          },
          "execution_count": 35,
          "metadata": {},
          "output_type": "execute_result"
        }
      ],
      "source": [
        "accuracy_score(y_test, y_pred)"
      ]
    },
    {
      "cell_type": "code",
      "execution_count": null,
      "id": "ec5e71c6",
      "metadata": {
        "id": "ec5e71c6",
        "outputId": "6d8e7902-defc-4857-c76b-b0d8c0664c47"
      },
      "outputs": [
        {
          "data": {
            "text/plain": [
              "0.7359307359307359"
            ]
          },
          "execution_count": 36,
          "metadata": {},
          "output_type": "execute_result"
        }
      ],
      "source": [
        "accuracy_score(y_pred, y_test)"
      ]
    },
    {
      "cell_type": "code",
      "execution_count": null,
      "id": "6cb7948d",
      "metadata": {
        "id": "6cb7948d"
      },
      "outputs": [],
      "source": [
        "##To increase the increase\n",
        "# cross-validation types.."
      ]
    },
    {
      "cell_type": "code",
      "execution_count": null,
      "id": "47062f55",
      "metadata": {
        "id": "47062f55"
      },
      "outputs": [],
      "source": []
    }
  ],
  "metadata": {
    "kernelspec": {
      "display_name": "Python 3",
      "language": "python",
      "name": "python3"
    },
    "language_info": {
      "codemirror_mode": {
        "name": "ipython",
        "version": 3
      },
      "file_extension": ".py",
      "mimetype": "text/x-python",
      "name": "python",
      "nbconvert_exporter": "python",
      "pygments_lexer": "ipython3",
      "version": "3.8.8"
    },
    "colab": {
      "provenance": [],
      "include_colab_link": true
    }
  },
  "nbformat": 4,
  "nbformat_minor": 5
}