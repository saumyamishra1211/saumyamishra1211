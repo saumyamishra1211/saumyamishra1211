{
  "cells": [
    {
      "cell_type": "markdown",
      "metadata": {
        "id": "view-in-github",
        "colab_type": "text"
      },
      "source": [
        "<a href=\"https://colab.research.google.com/github/saumyamishra1211/saumyamishra1211/blob/main/Naive_Bayes_on_SMS_Data.ipynb\" target=\"_parent\"><img src=\"https://colab.research.google.com/assets/colab-badge.svg\" alt=\"Open In Colab\"/></a>"
      ]
    },
    {
      "cell_type": "code",
      "execution_count": null,
      "id": "3afc11be",
      "metadata": {
        "id": "3afc11be"
      },
      "outputs": [],
      "source": [
        "#Data Handeling and Manipulation\n",
        "import pandas as pd\n",
        "import numpy as np\n",
        "\n",
        "#Data Preprocessing Libraries\n",
        "from sklearn.preprocessing import LabelEncoder #ordinal encoding, #one hot encoding\n",
        "\n",
        "#count vectorizer in excel to understand how it works in the backend.\n",
        "from sklearn.feature_extraction.text import CountVectorizer\n",
        "from sklearn.model_selection import train_test_split, #70%data in training, #30%test #80-20, 90-10\n",
        "from sklearn.naive_bayes import MultinomialNB #Multinomial Naive bayes algorithm.\n",
        "\n",
        "\n",
        "#evaluation metrics #r2, Rmse(evaluation metrics)\n",
        "from sklearn.metrics import accuracy_score"
      ]
    },
    {
      "cell_type": "code",
      "execution_count": null,
      "id": "75453c8f",
      "metadata": {
        "id": "75453c8f"
      },
      "outputs": [],
      "source": [
        "df = pd.read_table('SMSSpamCollection', names = ['label' , 'message'])"
      ]
    },
    {
      "cell_type": "code",
      "execution_count": null,
      "id": "4ec2176f",
      "metadata": {
        "id": "4ec2176f"
      },
      "outputs": [],
      "source": [
        "#Problem statement- is based on the message, you have to categorize the data into spam or ham."
      ]
    },
    {
      "cell_type": "markdown",
      "id": "80811ef1",
      "metadata": {
        "id": "80811ef1"
      },
      "source": [
        "### Gmail, spam, junk,\n",
        "- NLP(word2vec)\n",
        "- Google excellent, smart(e.g Delhi, world, )\n",
        "- Performance very impressive."
      ]
    },
    {
      "cell_type": "code",
      "execution_count": null,
      "id": "13ee6da8",
      "metadata": {
        "id": "13ee6da8",
        "outputId": "ac825878-4ef0-452f-99d8-9ca394983c96"
      },
      "outputs": [
        {
          "data": {
            "text/html": [
              "<div>\n",
              "<style scoped>\n",
              "    .dataframe tbody tr th:only-of-type {\n",
              "        vertical-align: middle;\n",
              "    }\n",
              "\n",
              "    .dataframe tbody tr th {\n",
              "        vertical-align: top;\n",
              "    }\n",
              "\n",
              "    .dataframe thead th {\n",
              "        text-align: right;\n",
              "    }\n",
              "</style>\n",
              "<table border=\"1\" class=\"dataframe\">\n",
              "  <thead>\n",
              "    <tr style=\"text-align: right;\">\n",
              "      <th></th>\n",
              "      <th>label</th>\n",
              "      <th>message</th>\n",
              "    </tr>\n",
              "  </thead>\n",
              "  <tbody>\n",
              "    <tr>\n",
              "      <th>0</th>\n",
              "      <td>ham</td>\n",
              "      <td>Go until jurong point, crazy.. Available only ...</td>\n",
              "    </tr>\n",
              "    <tr>\n",
              "      <th>1</th>\n",
              "      <td>ham</td>\n",
              "      <td>Ok lar... Joking wif u oni...</td>\n",
              "    </tr>\n",
              "    <tr>\n",
              "      <th>2</th>\n",
              "      <td>spam</td>\n",
              "      <td>Free entry in 2 a wkly comp to win FA Cup fina...</td>\n",
              "    </tr>\n",
              "    <tr>\n",
              "      <th>3</th>\n",
              "      <td>ham</td>\n",
              "      <td>U dun say so early hor... U c already then say...</td>\n",
              "    </tr>\n",
              "    <tr>\n",
              "      <th>4</th>\n",
              "      <td>ham</td>\n",
              "      <td>Nah I don't think he goes to usf, he lives aro...</td>\n",
              "    </tr>\n",
              "  </tbody>\n",
              "</table>\n",
              "</div>"
            ],
            "text/plain": [
              "  label                                            message\n",
              "0   ham  Go until jurong point, crazy.. Available only ...\n",
              "1   ham                      Ok lar... Joking wif u oni...\n",
              "2  spam  Free entry in 2 a wkly comp to win FA Cup fina...\n",
              "3   ham  U dun say so early hor... U c already then say...\n",
              "4   ham  Nah I don't think he goes to usf, he lives aro..."
            ]
          },
          "execution_count": 15,
          "metadata": {},
          "output_type": "execute_result"
        }
      ],
      "source": [
        "df.head()"
      ]
    },
    {
      "cell_type": "code",
      "execution_count": null,
      "id": "4b992ac7",
      "metadata": {
        "id": "4b992ac7",
        "outputId": "19bd83c2-f6c0-4907-fb3b-6701d7fd4462"
      },
      "outputs": [
        {
          "data": {
            "text/plain": [
              "ham     4825\n",
              "spam     747\n",
              "Name: label, dtype: int64"
            ]
          },
          "execution_count": 16,
          "metadata": {},
          "output_type": "execute_result"
        }
      ],
      "source": [
        "df['label'].value_counts()"
      ]
    },
    {
      "cell_type": "code",
      "execution_count": null,
      "id": "f7dc571c",
      "metadata": {
        "id": "f7dc571c"
      },
      "outputs": [],
      "source": [
        "le = LabelEncoder()\n",
        "df['label'] = le.fit_transform(df['label'])"
      ]
    },
    {
      "cell_type": "code",
      "execution_count": null,
      "id": "3fe66e31",
      "metadata": {
        "id": "3fe66e31",
        "outputId": "a59eac61-c487-44f2-9112-a6d18f3f4196"
      },
      "outputs": [
        {
          "data": {
            "text/html": [
              "<div>\n",
              "<style scoped>\n",
              "    .dataframe tbody tr th:only-of-type {\n",
              "        vertical-align: middle;\n",
              "    }\n",
              "\n",
              "    .dataframe tbody tr th {\n",
              "        vertical-align: top;\n",
              "    }\n",
              "\n",
              "    .dataframe thead th {\n",
              "        text-align: right;\n",
              "    }\n",
              "</style>\n",
              "<table border=\"1\" class=\"dataframe\">\n",
              "  <thead>\n",
              "    <tr style=\"text-align: right;\">\n",
              "      <th></th>\n",
              "      <th>label</th>\n",
              "      <th>message</th>\n",
              "    </tr>\n",
              "  </thead>\n",
              "  <tbody>\n",
              "    <tr>\n",
              "      <th>0</th>\n",
              "      <td>0</td>\n",
              "      <td>Go until jurong point, crazy.. Available only ...</td>\n",
              "    </tr>\n",
              "    <tr>\n",
              "      <th>1</th>\n",
              "      <td>0</td>\n",
              "      <td>Ok lar... Joking wif u oni...</td>\n",
              "    </tr>\n",
              "    <tr>\n",
              "      <th>2</th>\n",
              "      <td>1</td>\n",
              "      <td>Free entry in 2 a wkly comp to win FA Cup fina...</td>\n",
              "    </tr>\n",
              "    <tr>\n",
              "      <th>3</th>\n",
              "      <td>0</td>\n",
              "      <td>U dun say so early hor... U c already then say...</td>\n",
              "    </tr>\n",
              "    <tr>\n",
              "      <th>4</th>\n",
              "      <td>0</td>\n",
              "      <td>Nah I don't think he goes to usf, he lives aro...</td>\n",
              "    </tr>\n",
              "  </tbody>\n",
              "</table>\n",
              "</div>"
            ],
            "text/plain": [
              "   label                                            message\n",
              "0      0  Go until jurong point, crazy.. Available only ...\n",
              "1      0                      Ok lar... Joking wif u oni...\n",
              "2      1  Free entry in 2 a wkly comp to win FA Cup fina...\n",
              "3      0  U dun say so early hor... U c already then say...\n",
              "4      0  Nah I don't think he goes to usf, he lives aro..."
            ]
          },
          "execution_count": 24,
          "metadata": {},
          "output_type": "execute_result"
        }
      ],
      "source": [
        "df.head()"
      ]
    },
    {
      "cell_type": "code",
      "execution_count": null,
      "id": "14ed2f94",
      "metadata": {
        "id": "14ed2f94"
      },
      "outputs": [],
      "source": [
        "msg = ['Hi I have reached home', 'You have won a lottery of 1 Lakh rupees' , 'How are you' , 'Good morning',\n",
        "      'Hi this is Shivam from ML batch', 'Congratulations you have won a lottery',\n",
        "       'Good morning morning']"
      ]
    },
    {
      "cell_type": "code",
      "execution_count": null,
      "id": "e189e7f3",
      "metadata": {
        "id": "e189e7f3",
        "outputId": "bcd8e810-6c8a-4169-88da-265684c76f81"
      },
      "outputs": [
        {
          "data": {
            "text/plain": [
              "['Hi I have reached home',\n",
              " 'You have won a lottery of 1 Lakh rupees',\n",
              " 'How are you',\n",
              " 'Good morning',\n",
              " 'Hi this is Shivam from ML batch',\n",
              " 'Congratulations you have won a lottery',\n",
              " 'Good morning morning']"
            ]
          },
          "execution_count": 29,
          "metadata": {},
          "output_type": "execute_result"
        }
      ],
      "source": [
        "msg"
      ]
    },
    {
      "cell_type": "code",
      "execution_count": null,
      "id": "071df7e5",
      "metadata": {
        "id": "071df7e5",
        "outputId": "909bc083-0fa6-49ea-dd8a-a2fb690299b8"
      },
      "outputs": [
        {
          "data": {
            "text/plain": [
              "CountVectorizer()"
            ]
          },
          "execution_count": 32,
          "metadata": {},
          "output_type": "execute_result"
        }
      ],
      "source": [
        "cv = CountVectorizer() #IMPORTANT\n",
        "cv.fit(msg)"
      ]
    },
    {
      "cell_type": "code",
      "execution_count": null,
      "id": "f15ba6cc",
      "metadata": {
        "id": "f15ba6cc",
        "outputId": "aa814f1e-0ea8-4887-f08b-1ff8fef38060"
      },
      "outputs": [
        {
          "data": {
            "text/plain": [
              "['are',\n",
              " 'batch',\n",
              " 'congratulations',\n",
              " 'from',\n",
              " 'good',\n",
              " 'have',\n",
              " 'hi',\n",
              " 'home',\n",
              " 'how',\n",
              " 'is',\n",
              " 'lakh',\n",
              " 'lottery',\n",
              " 'ml',\n",
              " 'morning',\n",
              " 'of',\n",
              " 'reached',\n",
              " 'rupees',\n",
              " 'shivam',\n",
              " 'this',\n",
              " 'won',\n",
              " 'you']"
            ]
          },
          "execution_count": 33,
          "metadata": {},
          "output_type": "execute_result"
        }
      ],
      "source": [
        "cv.get_feature_names()"
      ]
    },
    {
      "cell_type": "code",
      "execution_count": null,
      "id": "dfc4e78c",
      "metadata": {
        "id": "dfc4e78c"
      },
      "outputs": [],
      "source": [
        "words = cv.get_feature_names()"
      ]
    },
    {
      "cell_type": "code",
      "execution_count": null,
      "id": "d687fe02",
      "metadata": {
        "id": "d687fe02"
      },
      "outputs": [],
      "source": [
        "matrix = cv.transform(msg).toarray()"
      ]
    },
    {
      "cell_type": "markdown",
      "source": [],
      "metadata": {
        "id": "hsHm82yVP9pz"
      },
      "id": "hsHm82yVP9pz"
    },
    {
      "cell_type": "code",
      "execution_count": null,
      "id": "01fb379b",
      "metadata": {
        "id": "01fb379b"
      },
      "outputs": [],
      "source": [
        "df_eg = pd.DataFrame(data = matrix , columns = words)"
      ]
    },
    {
      "cell_type": "code",
      "execution_count": null,
      "id": "421c16d8",
      "metadata": {
        "id": "421c16d8",
        "outputId": "2c755c0a-82f6-4801-c86b-6a0dfa82949d"
      },
      "outputs": [
        {
          "data": {
            "text/html": [
              "<div>\n",
              "<style scoped>\n",
              "    .dataframe tbody tr th:only-of-type {\n",
              "        vertical-align: middle;\n",
              "    }\n",
              "\n",
              "    .dataframe tbody tr th {\n",
              "        vertical-align: top;\n",
              "    }\n",
              "\n",
              "    .dataframe thead th {\n",
              "        text-align: right;\n",
              "    }\n",
              "</style>\n",
              "<table border=\"1\" class=\"dataframe\">\n",
              "  <thead>\n",
              "    <tr style=\"text-align: right;\">\n",
              "      <th></th>\n",
              "      <th>are</th>\n",
              "      <th>batch</th>\n",
              "      <th>congratulations</th>\n",
              "      <th>from</th>\n",
              "      <th>good</th>\n",
              "      <th>have</th>\n",
              "      <th>hi</th>\n",
              "      <th>home</th>\n",
              "      <th>how</th>\n",
              "      <th>is</th>\n",
              "      <th>...</th>\n",
              "      <th>lottery</th>\n",
              "      <th>ml</th>\n",
              "      <th>morning</th>\n",
              "      <th>of</th>\n",
              "      <th>reached</th>\n",
              "      <th>rupees</th>\n",
              "      <th>shivam</th>\n",
              "      <th>this</th>\n",
              "      <th>won</th>\n",
              "      <th>you</th>\n",
              "    </tr>\n",
              "  </thead>\n",
              "  <tbody>\n",
              "    <tr>\n",
              "      <th>0</th>\n",
              "      <td>0</td>\n",
              "      <td>0</td>\n",
              "      <td>0</td>\n",
              "      <td>0</td>\n",
              "      <td>0</td>\n",
              "      <td>1</td>\n",
              "      <td>1</td>\n",
              "      <td>1</td>\n",
              "      <td>0</td>\n",
              "      <td>0</td>\n",
              "      <td>...</td>\n",
              "      <td>0</td>\n",
              "      <td>0</td>\n",
              "      <td>0</td>\n",
              "      <td>0</td>\n",
              "      <td>1</td>\n",
              "      <td>0</td>\n",
              "      <td>0</td>\n",
              "      <td>0</td>\n",
              "      <td>0</td>\n",
              "      <td>0</td>\n",
              "    </tr>\n",
              "    <tr>\n",
              "      <th>1</th>\n",
              "      <td>0</td>\n",
              "      <td>0</td>\n",
              "      <td>0</td>\n",
              "      <td>0</td>\n",
              "      <td>0</td>\n",
              "      <td>1</td>\n",
              "      <td>0</td>\n",
              "      <td>0</td>\n",
              "      <td>0</td>\n",
              "      <td>0</td>\n",
              "      <td>...</td>\n",
              "      <td>1</td>\n",
              "      <td>0</td>\n",
              "      <td>0</td>\n",
              "      <td>1</td>\n",
              "      <td>0</td>\n",
              "      <td>1</td>\n",
              "      <td>0</td>\n",
              "      <td>0</td>\n",
              "      <td>1</td>\n",
              "      <td>1</td>\n",
              "    </tr>\n",
              "    <tr>\n",
              "      <th>2</th>\n",
              "      <td>1</td>\n",
              "      <td>0</td>\n",
              "      <td>0</td>\n",
              "      <td>0</td>\n",
              "      <td>0</td>\n",
              "      <td>0</td>\n",
              "      <td>0</td>\n",
              "      <td>0</td>\n",
              "      <td>1</td>\n",
              "      <td>0</td>\n",
              "      <td>...</td>\n",
              "      <td>0</td>\n",
              "      <td>0</td>\n",
              "      <td>0</td>\n",
              "      <td>0</td>\n",
              "      <td>0</td>\n",
              "      <td>0</td>\n",
              "      <td>0</td>\n",
              "      <td>0</td>\n",
              "      <td>0</td>\n",
              "      <td>1</td>\n",
              "    </tr>\n",
              "    <tr>\n",
              "      <th>3</th>\n",
              "      <td>0</td>\n",
              "      <td>0</td>\n",
              "      <td>0</td>\n",
              "      <td>0</td>\n",
              "      <td>1</td>\n",
              "      <td>0</td>\n",
              "      <td>0</td>\n",
              "      <td>0</td>\n",
              "      <td>0</td>\n",
              "      <td>0</td>\n",
              "      <td>...</td>\n",
              "      <td>0</td>\n",
              "      <td>0</td>\n",
              "      <td>1</td>\n",
              "      <td>0</td>\n",
              "      <td>0</td>\n",
              "      <td>0</td>\n",
              "      <td>0</td>\n",
              "      <td>0</td>\n",
              "      <td>0</td>\n",
              "      <td>0</td>\n",
              "    </tr>\n",
              "    <tr>\n",
              "      <th>4</th>\n",
              "      <td>0</td>\n",
              "      <td>1</td>\n",
              "      <td>0</td>\n",
              "      <td>1</td>\n",
              "      <td>0</td>\n",
              "      <td>0</td>\n",
              "      <td>1</td>\n",
              "      <td>0</td>\n",
              "      <td>0</td>\n",
              "      <td>1</td>\n",
              "      <td>...</td>\n",
              "      <td>0</td>\n",
              "      <td>1</td>\n",
              "      <td>0</td>\n",
              "      <td>0</td>\n",
              "      <td>0</td>\n",
              "      <td>0</td>\n",
              "      <td>1</td>\n",
              "      <td>1</td>\n",
              "      <td>0</td>\n",
              "      <td>0</td>\n",
              "    </tr>\n",
              "  </tbody>\n",
              "</table>\n",
              "<p>5 rows × 21 columns</p>\n",
              "</div>"
            ],
            "text/plain": [
              "   are  batch  congratulations  from  good  have  hi  home  how  is  ...  \\\n",
              "0    0      0                0     0     0     1   1     1    0   0  ...   \n",
              "1    0      0                0     0     0     1   0     0    0   0  ...   \n",
              "2    1      0                0     0     0     0   0     0    1   0  ...   \n",
              "3    0      0                0     0     1     0   0     0    0   0  ...   \n",
              "4    0      1                0     1     0     0   1     0    0   1  ...   \n",
              "\n",
              "   lottery  ml  morning  of  reached  rupees  shivam  this  won  you  \n",
              "0        0   0        0   0        1       0       0     0    0    0  \n",
              "1        1   0        0   1        0       1       0     0    1    1  \n",
              "2        0   0        0   0        0       0       0     0    0    1  \n",
              "3        0   0        1   0        0       0       0     0    0    0  \n",
              "4        0   1        0   0        0       0       1     1    0    0  \n",
              "\n",
              "[5 rows x 21 columns]"
            ]
          },
          "execution_count": 42,
          "metadata": {},
          "output_type": "execute_result"
        }
      ],
      "source": [
        "df_eg.head()"
      ]
    },
    {
      "cell_type": "markdown",
      "id": "12eeaeb4",
      "metadata": {
        "id": "12eeaeb4"
      },
      "source": [
        "## Count Vector Implementation on SMS data"
      ]
    },
    {
      "cell_type": "code",
      "execution_count": null,
      "id": "e335917b",
      "metadata": {
        "id": "e335917b",
        "outputId": "45bccdc6-6139-494a-cefc-ed3602fea06e"
      },
      "outputs": [
        {
          "name": "stdout",
          "output_type": "stream",
          "text": [
            "<class 'pandas.core.frame.DataFrame'>\n",
            "RangeIndex: 5572 entries, 0 to 5571\n",
            "Data columns (total 2 columns):\n",
            " #   Column   Non-Null Count  Dtype \n",
            "---  ------   --------------  ----- \n",
            " 0   label    5572 non-null   int32 \n",
            " 1   message  5572 non-null   object\n",
            "dtypes: int32(1), object(1)\n",
            "memory usage: 65.4+ KB\n"
          ]
        }
      ],
      "source": [
        "df.info()"
      ]
    },
    {
      "cell_type": "code",
      "execution_count": null,
      "id": "4899ca6a",
      "metadata": {
        "id": "4899ca6a"
      },
      "outputs": [],
      "source": [
        "cv = CountVectorizer()"
      ]
    },
    {
      "cell_type": "code",
      "execution_count": null,
      "id": "ed22eee4",
      "metadata": {
        "id": "ed22eee4"
      },
      "outputs": [],
      "source": [
        "x = df['message']\n",
        "y = df['label']"
      ]
    },
    {
      "cell_type": "code",
      "execution_count": null,
      "id": "c6bc0d96",
      "metadata": {
        "id": "c6bc0d96",
        "outputId": "a0adbf5b-6545-447f-c736-c3b891329b84"
      },
      "outputs": [
        {
          "data": {
            "text/plain": [
              "CountVectorizer()"
            ]
          },
          "execution_count": 46,
          "metadata": {},
          "output_type": "execute_result"
        }
      ],
      "source": [
        "cv.fit(x)"
      ]
    },
    {
      "cell_type": "code",
      "execution_count": null,
      "id": "16128f4c",
      "metadata": {
        "id": "16128f4c"
      },
      "outputs": [],
      "source": [
        "unique_words = cv.get_feature_names() #unique words - unique words in the data"
      ]
    },
    {
      "cell_type": "code",
      "execution_count": null,
      "id": "71a4da11",
      "metadata": {
        "id": "71a4da11"
      },
      "outputs": [],
      "source": [
        "count = cv.transform(x).toarray() #array means 1 and 0"
      ]
    },
    {
      "cell_type": "code",
      "execution_count": null,
      "id": "dba965a4",
      "metadata": {
        "id": "dba965a4",
        "outputId": "3500b999-1f2d-4e81-84a7-3c9dc6e1a45c"
      },
      "outputs": [
        {
          "data": {
            "text/plain": [
              "8713"
            ]
          },
          "execution_count": 52,
          "metadata": {},
          "output_type": "execute_result"
        }
      ],
      "source": [
        "len(unique_words)"
      ]
    },
    {
      "cell_type": "code",
      "execution_count": null,
      "id": "59468dbc",
      "metadata": {
        "id": "59468dbc"
      },
      "outputs": [],
      "source": [
        "df_message = pd.DataFrame(data = count , columns = unique_words)"
      ]
    },
    {
      "cell_type": "code",
      "execution_count": null,
      "id": "d874cd89",
      "metadata": {
        "id": "d874cd89",
        "outputId": "88719e7e-e9ec-4503-c7e9-c892a7574748"
      },
      "outputs": [
        {
          "data": {
            "text/html": [
              "<div>\n",
              "<style scoped>\n",
              "    .dataframe tbody tr th:only-of-type {\n",
              "        vertical-align: middle;\n",
              "    }\n",
              "\n",
              "    .dataframe tbody tr th {\n",
              "        vertical-align: top;\n",
              "    }\n",
              "\n",
              "    .dataframe thead th {\n",
              "        text-align: right;\n",
              "    }\n",
              "</style>\n",
              "<table border=\"1\" class=\"dataframe\">\n",
              "  <thead>\n",
              "    <tr style=\"text-align: right;\">\n",
              "      <th></th>\n",
              "      <th>00</th>\n",
              "      <th>000</th>\n",
              "      <th>000pes</th>\n",
              "      <th>008704050406</th>\n",
              "      <th>0089</th>\n",
              "      <th>0121</th>\n",
              "      <th>01223585236</th>\n",
              "      <th>01223585334</th>\n",
              "      <th>0125698789</th>\n",
              "      <th>02</th>\n",
              "      <th>...</th>\n",
              "      <th>zhong</th>\n",
              "      <th>zindgi</th>\n",
              "      <th>zoe</th>\n",
              "      <th>zogtorius</th>\n",
              "      <th>zoom</th>\n",
              "      <th>zouk</th>\n",
              "      <th>zyada</th>\n",
              "      <th>èn</th>\n",
              "      <th>ú1</th>\n",
              "      <th>〨ud</th>\n",
              "    </tr>\n",
              "  </thead>\n",
              "  <tbody>\n",
              "    <tr>\n",
              "      <th>0</th>\n",
              "      <td>0</td>\n",
              "      <td>0</td>\n",
              "      <td>0</td>\n",
              "      <td>0</td>\n",
              "      <td>0</td>\n",
              "      <td>0</td>\n",
              "      <td>0</td>\n",
              "      <td>0</td>\n",
              "      <td>0</td>\n",
              "      <td>0</td>\n",
              "      <td>...</td>\n",
              "      <td>0</td>\n",
              "      <td>0</td>\n",
              "      <td>0</td>\n",
              "      <td>0</td>\n",
              "      <td>0</td>\n",
              "      <td>0</td>\n",
              "      <td>0</td>\n",
              "      <td>0</td>\n",
              "      <td>0</td>\n",
              "      <td>0</td>\n",
              "    </tr>\n",
              "    <tr>\n",
              "      <th>1</th>\n",
              "      <td>0</td>\n",
              "      <td>0</td>\n",
              "      <td>0</td>\n",
              "      <td>0</td>\n",
              "      <td>0</td>\n",
              "      <td>0</td>\n",
              "      <td>0</td>\n",
              "      <td>0</td>\n",
              "      <td>0</td>\n",
              "      <td>0</td>\n",
              "      <td>...</td>\n",
              "      <td>0</td>\n",
              "      <td>0</td>\n",
              "      <td>0</td>\n",
              "      <td>0</td>\n",
              "      <td>0</td>\n",
              "      <td>0</td>\n",
              "      <td>0</td>\n",
              "      <td>0</td>\n",
              "      <td>0</td>\n",
              "      <td>0</td>\n",
              "    </tr>\n",
              "    <tr>\n",
              "      <th>2</th>\n",
              "      <td>0</td>\n",
              "      <td>0</td>\n",
              "      <td>0</td>\n",
              "      <td>0</td>\n",
              "      <td>0</td>\n",
              "      <td>0</td>\n",
              "      <td>0</td>\n",
              "      <td>0</td>\n",
              "      <td>0</td>\n",
              "      <td>0</td>\n",
              "      <td>...</td>\n",
              "      <td>0</td>\n",
              "      <td>0</td>\n",
              "      <td>0</td>\n",
              "      <td>0</td>\n",
              "      <td>0</td>\n",
              "      <td>0</td>\n",
              "      <td>0</td>\n",
              "      <td>0</td>\n",
              "      <td>0</td>\n",
              "      <td>0</td>\n",
              "    </tr>\n",
              "    <tr>\n",
              "      <th>3</th>\n",
              "      <td>0</td>\n",
              "      <td>0</td>\n",
              "      <td>0</td>\n",
              "      <td>0</td>\n",
              "      <td>0</td>\n",
              "      <td>0</td>\n",
              "      <td>0</td>\n",
              "      <td>0</td>\n",
              "      <td>0</td>\n",
              "      <td>0</td>\n",
              "      <td>...</td>\n",
              "      <td>0</td>\n",
              "      <td>0</td>\n",
              "      <td>0</td>\n",
              "      <td>0</td>\n",
              "      <td>0</td>\n",
              "      <td>0</td>\n",
              "      <td>0</td>\n",
              "      <td>0</td>\n",
              "      <td>0</td>\n",
              "      <td>0</td>\n",
              "    </tr>\n",
              "    <tr>\n",
              "      <th>4</th>\n",
              "      <td>0</td>\n",
              "      <td>0</td>\n",
              "      <td>0</td>\n",
              "      <td>0</td>\n",
              "      <td>0</td>\n",
              "      <td>0</td>\n",
              "      <td>0</td>\n",
              "      <td>0</td>\n",
              "      <td>0</td>\n",
              "      <td>0</td>\n",
              "      <td>...</td>\n",
              "      <td>0</td>\n",
              "      <td>0</td>\n",
              "      <td>0</td>\n",
              "      <td>0</td>\n",
              "      <td>0</td>\n",
              "      <td>0</td>\n",
              "      <td>0</td>\n",
              "      <td>0</td>\n",
              "      <td>0</td>\n",
              "      <td>0</td>\n",
              "    </tr>\n",
              "    <tr>\n",
              "      <th>...</th>\n",
              "      <td>...</td>\n",
              "      <td>...</td>\n",
              "      <td>...</td>\n",
              "      <td>...</td>\n",
              "      <td>...</td>\n",
              "      <td>...</td>\n",
              "      <td>...</td>\n",
              "      <td>...</td>\n",
              "      <td>...</td>\n",
              "      <td>...</td>\n",
              "      <td>...</td>\n",
              "      <td>...</td>\n",
              "      <td>...</td>\n",
              "      <td>...</td>\n",
              "      <td>...</td>\n",
              "      <td>...</td>\n",
              "      <td>...</td>\n",
              "      <td>...</td>\n",
              "      <td>...</td>\n",
              "      <td>...</td>\n",
              "      <td>...</td>\n",
              "    </tr>\n",
              "    <tr>\n",
              "      <th>5567</th>\n",
              "      <td>0</td>\n",
              "      <td>0</td>\n",
              "      <td>0</td>\n",
              "      <td>0</td>\n",
              "      <td>0</td>\n",
              "      <td>0</td>\n",
              "      <td>0</td>\n",
              "      <td>0</td>\n",
              "      <td>0</td>\n",
              "      <td>0</td>\n",
              "      <td>...</td>\n",
              "      <td>0</td>\n",
              "      <td>0</td>\n",
              "      <td>0</td>\n",
              "      <td>0</td>\n",
              "      <td>0</td>\n",
              "      <td>0</td>\n",
              "      <td>0</td>\n",
              "      <td>0</td>\n",
              "      <td>0</td>\n",
              "      <td>0</td>\n",
              "    </tr>\n",
              "    <tr>\n",
              "      <th>5568</th>\n",
              "      <td>0</td>\n",
              "      <td>0</td>\n",
              "      <td>0</td>\n",
              "      <td>0</td>\n",
              "      <td>0</td>\n",
              "      <td>0</td>\n",
              "      <td>0</td>\n",
              "      <td>0</td>\n",
              "      <td>0</td>\n",
              "      <td>0</td>\n",
              "      <td>...</td>\n",
              "      <td>0</td>\n",
              "      <td>0</td>\n",
              "      <td>0</td>\n",
              "      <td>0</td>\n",
              "      <td>0</td>\n",
              "      <td>0</td>\n",
              "      <td>0</td>\n",
              "      <td>0</td>\n",
              "      <td>0</td>\n",
              "      <td>0</td>\n",
              "    </tr>\n",
              "    <tr>\n",
              "      <th>5569</th>\n",
              "      <td>0</td>\n",
              "      <td>0</td>\n",
              "      <td>0</td>\n",
              "      <td>0</td>\n",
              "      <td>0</td>\n",
              "      <td>0</td>\n",
              "      <td>0</td>\n",
              "      <td>0</td>\n",
              "      <td>0</td>\n",
              "      <td>0</td>\n",
              "      <td>...</td>\n",
              "      <td>0</td>\n",
              "      <td>0</td>\n",
              "      <td>0</td>\n",
              "      <td>0</td>\n",
              "      <td>0</td>\n",
              "      <td>0</td>\n",
              "      <td>0</td>\n",
              "      <td>0</td>\n",
              "      <td>0</td>\n",
              "      <td>0</td>\n",
              "    </tr>\n",
              "    <tr>\n",
              "      <th>5570</th>\n",
              "      <td>0</td>\n",
              "      <td>0</td>\n",
              "      <td>0</td>\n",
              "      <td>0</td>\n",
              "      <td>0</td>\n",
              "      <td>0</td>\n",
              "      <td>0</td>\n",
              "      <td>0</td>\n",
              "      <td>0</td>\n",
              "      <td>0</td>\n",
              "      <td>...</td>\n",
              "      <td>0</td>\n",
              "      <td>0</td>\n",
              "      <td>0</td>\n",
              "      <td>0</td>\n",
              "      <td>0</td>\n",
              "      <td>0</td>\n",
              "      <td>0</td>\n",
              "      <td>0</td>\n",
              "      <td>0</td>\n",
              "      <td>0</td>\n",
              "    </tr>\n",
              "    <tr>\n",
              "      <th>5571</th>\n",
              "      <td>0</td>\n",
              "      <td>0</td>\n",
              "      <td>0</td>\n",
              "      <td>0</td>\n",
              "      <td>0</td>\n",
              "      <td>0</td>\n",
              "      <td>0</td>\n",
              "      <td>0</td>\n",
              "      <td>0</td>\n",
              "      <td>0</td>\n",
              "      <td>...</td>\n",
              "      <td>0</td>\n",
              "      <td>0</td>\n",
              "      <td>0</td>\n",
              "      <td>0</td>\n",
              "      <td>0</td>\n",
              "      <td>0</td>\n",
              "      <td>0</td>\n",
              "      <td>0</td>\n",
              "      <td>0</td>\n",
              "      <td>0</td>\n",
              "    </tr>\n",
              "  </tbody>\n",
              "</table>\n",
              "<p>5572 rows × 8713 columns</p>\n",
              "</div>"
            ],
            "text/plain": [
              "      00  000  000pes  008704050406  0089  0121  01223585236  01223585334  \\\n",
              "0      0    0       0             0     0     0            0            0   \n",
              "1      0    0       0             0     0     0            0            0   \n",
              "2      0    0       0             0     0     0            0            0   \n",
              "3      0    0       0             0     0     0            0            0   \n",
              "4      0    0       0             0     0     0            0            0   \n",
              "...   ..  ...     ...           ...   ...   ...          ...          ...   \n",
              "5567   0    0       0             0     0     0            0            0   \n",
              "5568   0    0       0             0     0     0            0            0   \n",
              "5569   0    0       0             0     0     0            0            0   \n",
              "5570   0    0       0             0     0     0            0            0   \n",
              "5571   0    0       0             0     0     0            0            0   \n",
              "\n",
              "      0125698789  02  ...  zhong  zindgi  zoe  zogtorius  zoom  zouk  zyada  \\\n",
              "0              0   0  ...      0       0    0          0     0     0      0   \n",
              "1              0   0  ...      0       0    0          0     0     0      0   \n",
              "2              0   0  ...      0       0    0          0     0     0      0   \n",
              "3              0   0  ...      0       0    0          0     0     0      0   \n",
              "4              0   0  ...      0       0    0          0     0     0      0   \n",
              "...          ...  ..  ...    ...     ...  ...        ...   ...   ...    ...   \n",
              "5567           0   0  ...      0       0    0          0     0     0      0   \n",
              "5568           0   0  ...      0       0    0          0     0     0      0   \n",
              "5569           0   0  ...      0       0    0          0     0     0      0   \n",
              "5570           0   0  ...      0       0    0          0     0     0      0   \n",
              "5571           0   0  ...      0       0    0          0     0     0      0   \n",
              "\n",
              "      èn  ú1  〨ud  \n",
              "0      0   0    0  \n",
              "1      0   0    0  \n",
              "2      0   0    0  \n",
              "3      0   0    0  \n",
              "4      0   0    0  \n",
              "...   ..  ..  ...  \n",
              "5567   0   0    0  \n",
              "5568   0   0    0  \n",
              "5569   0   0    0  \n",
              "5570   0   0    0  \n",
              "5571   0   0    0  \n",
              "\n",
              "[5572 rows x 8713 columns]"
            ]
          },
          "execution_count": 54,
          "metadata": {},
          "output_type": "execute_result"
        }
      ],
      "source": [
        "df_message"
      ]
    },
    {
      "cell_type": "code",
      "execution_count": null,
      "id": "d9ca3a93",
      "metadata": {
        "id": "d9ca3a93"
      },
      "outputs": [],
      "source": [
        "x_train , x_test, y_train, y_test = train_test_split(df_message , y, test_size=0.3, random_state = 3)"
      ]
    },
    {
      "cell_type": "code",
      "execution_count": null,
      "id": "d7b0b27e",
      "metadata": {
        "id": "d7b0b27e"
      },
      "outputs": [],
      "source": [
        "nb = MultinomialNB()"
      ]
    },
    {
      "cell_type": "code",
      "execution_count": null,
      "id": "e98b4d2c",
      "metadata": {
        "id": "e98b4d2c",
        "outputId": "aef2d75f-55cd-4e0a-8044-d77da840ede3"
      },
      "outputs": [
        {
          "data": {
            "text/plain": [
              "MultinomialNB()"
            ]
          },
          "execution_count": 61,
          "metadata": {},
          "output_type": "execute_result"
        }
      ],
      "source": [
        "nb.fit(x_train, y_train) #we fit our model on x_train and y_train"
      ]
    },
    {
      "cell_type": "code",
      "execution_count": null,
      "id": "31a128e6",
      "metadata": {
        "id": "31a128e6"
      },
      "outputs": [],
      "source": [
        "y_pred = nb.predict(x_test) #we use x test to predict the y"
      ]
    },
    {
      "cell_type": "code",
      "execution_count": null,
      "id": "dd6cd14f",
      "metadata": {
        "id": "dd6cd14f",
        "outputId": "376b6eba-87b8-40f4-c122-89448179b7a4"
      },
      "outputs": [
        {
          "data": {
            "text/plain": [
              "0.979066985645933"
            ]
          },
          "execution_count": 64,
          "metadata": {},
          "output_type": "execute_result"
        }
      ],
      "source": [
        "accuracy_score(y_test, y_pred) #97%"
      ]
    },
    {
      "cell_type": "code",
      "source": [],
      "metadata": {
        "id": "uhSWa8NY440r"
      },
      "id": "uhSWa8NY440r",
      "execution_count": null,
      "outputs": []
    }
  ],
  "metadata": {
    "kernelspec": {
      "display_name": "Python 3",
      "language": "python",
      "name": "python3"
    },
    "language_info": {
      "codemirror_mode": {
        "name": "ipython",
        "version": 3
      },
      "file_extension": ".py",
      "mimetype": "text/x-python",
      "name": "python",
      "nbconvert_exporter": "python",
      "pygments_lexer": "ipython3",
      "version": "3.8.8"
    },
    "colab": {
      "provenance": [],
      "include_colab_link": true
    }
  },
  "nbformat": 4,
  "nbformat_minor": 5
}